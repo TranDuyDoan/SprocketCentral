{
  "nbformat": 4,
  "nbformat_minor": 0,
  "metadata": {
    "colab": {
      "provenance": []
    },
    "kernelspec": {
      "name": "python3",
      "display_name": "Python 3"
    },
    "language_info": {
      "name": "python"
    }
  },
  "cells": [
    {
      "cell_type": "code",
      "execution_count": null,
      "metadata": {
        "id": "_RjRh-2w0XiS"
      },
      "outputs": [],
      "source": [
        "import pandas as pd"
      ]
    },
    {
      "cell_type": "markdown",
      "source": [
        "# **Data cleaning**"
      ],
      "metadata": {
        "id": "1rc9d4gm5DcF"
      }
    },
    {
      "cell_type": "code",
      "source": [
        "file_path = 'Transactions.csv'\n",
        "Transactions = pd.read_csv(file_path)\n",
        "\n",
        "# Kiểm tra missing values\n",
        "print(Transactions.isnull().sum())\n",
        "\n",
        "# Xóa Missing\n",
        "Transactions.dropna(inplace=True)\n",
        "\n",
        "# Kiểm tra missing values sau khi xóa\n",
        "print(Transactions.isnull().sum())\n",
        "\n",
        "# Xóa dòng trùng lặp\n",
        "Transactions.drop_duplicates(inplace=True)\n",
        "\n",
        "# Tạo cột Revenue và Profit\n",
        "Transactions['Revenue'] = Transactions['quantity_sold'] * Transactions['list_price']\n",
        "Transactions['Profit'] = Transactions['Revenue'] - Transactions['quantity_sold'] * Transactions['standard_cost']\n"
      ],
      "metadata": {
        "colab": {
          "base_uri": "https://localhost:8080/"
        },
        "collapsed": true,
        "id": "pVcDazpC_Bz-",
        "outputId": "8416c752-59ef-4795-f214-147946b5cee2"
      },
      "execution_count": null,
      "outputs": [
        {
          "output_type": "stream",
          "name": "stdout",
          "text": [
            "transaction_id               0\n",
            "product_id                   0\n",
            "customer_id                  0\n",
            "transaction_date             0\n",
            "online_order                 0\n",
            "order_status                 0\n",
            "brand                      197\n",
            "product_line               197\n",
            "product_class              197\n",
            "product_size               197\n",
            "list_price                   0\n",
            "standard_cost              197\n",
            "product_first_sold_date    197\n",
            "quantity_sold                0\n",
            "dtype: int64\n",
            "transaction_id             0\n",
            "product_id                 0\n",
            "customer_id                0\n",
            "transaction_date           0\n",
            "online_order               0\n",
            "order_status               0\n",
            "brand                      0\n",
            "product_line               0\n",
            "product_class              0\n",
            "product_size               0\n",
            "list_price                 0\n",
            "standard_cost              0\n",
            "product_first_sold_date    0\n",
            "quantity_sold              0\n",
            "dtype: int64\n"
          ]
        }
      ]
    },
    {
      "cell_type": "code",
      "source": [
        "# CustomerAddress\n",
        "file_path = 'CustomerAddress.csv'\n",
        "CustomerAddress = pd.read_csv(file_path)\n",
        "# Kiểm tra missing values\n",
        "print(CustomerAddress.isnull().sum())"
      ],
      "metadata": {
        "colab": {
          "base_uri": "https://localhost:8080/"
        },
        "collapsed": true,
        "id": "p8Wr0xbOEali",
        "outputId": "fe34081d-92df-49a3-9e6a-f8547d741d64"
      },
      "execution_count": null,
      "outputs": [
        {
          "output_type": "stream",
          "name": "stdout",
          "text": [
            "customer_id           0\n",
            "address               0\n",
            "postcode              0\n",
            "state                 0\n",
            "country               0\n",
            "property_valuation    0\n",
            "dtype: int64\n",
            "customer_id                              0\n",
            "name                                     0\n",
            "gender                                   0\n",
            "past_3_years_bike_related_purchases      0\n",
            "age                                      0\n",
            "job_title                              497\n",
            "job_industry_category                    0\n",
            "wealth_segment                           0\n",
            "deceased_indicator                       0\n",
            "owns_car                                 0\n",
            "tenure                                  87\n",
            "dtype: int64\n"
          ]
        }
      ]
    },
    {
      "cell_type": "code",
      "source": [
        "# CustomerDemographic\n",
        "file_path = 'CustomerDemographic.csv'\n",
        "CustomerDemographic = pd.read_csv(file_path)\n",
        "# Kiểm tra missing values\n",
        "print(CustomerDemographic.isnull().sum())"
      ],
      "metadata": {
        "colab": {
          "base_uri": "https://localhost:8080/"
        },
        "collapsed": true,
        "id": "2oTNopYtFbE0",
        "outputId": "b9cf94c9-215e-4e56-a0a4-b1e3cff66cd0"
      },
      "execution_count": null,
      "outputs": [
        {
          "output_type": "stream",
          "name": "stdout",
          "text": [
            "customer_id                              0\n",
            "name                                     0\n",
            "gender                                   0\n",
            "past_3_years_bike_related_purchases      0\n",
            "age                                      0\n",
            "job_title                              497\n",
            "job_industry_category                    0\n",
            "wealth_segment                           0\n",
            "deceased_indicator                       0\n",
            "owns_car                                 0\n",
            "tenure                                  87\n",
            "dtype: int64\n"
          ]
        }
      ]
    },
    {
      "cell_type": "code",
      "source": [],
      "metadata": {
        "id": "qrOgcONt4ABx"
      },
      "execution_count": null,
      "outputs": []
    },
    {
      "cell_type": "code",
      "source": [
        "Transactions.to_csv('Transactions1.csv', index=False)"
      ],
      "metadata": {
        "id": "wv9jgNUs_ZfX"
      },
      "execution_count": null,
      "outputs": []
    }
  ]
}